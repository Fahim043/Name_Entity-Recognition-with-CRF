{
 "cells": [
  {
   "cell_type": "code",
   "execution_count": 8,
   "id": "1c6402a7",
   "metadata": {},
   "outputs": [
    {
     "name": "stderr",
     "output_type": "stream",
     "text": [
      "2023-05-11 10:25:31.157591: I tensorflow/core/platform/cpu_feature_guard.cc:182] This TensorFlow binary is optimized to use available CPU instructions in performance-critical operations.\n",
      "To enable the following instructions: AVX2 FMA, in other operations, rebuild TensorFlow with the appropriate compiler flags.\n"
     ]
    }
   ],
   "source": [
    "import pandas as pd\n",
    "import numpy as np\n",
    "from sklearn.model_selection import train_test_split\n",
    "from sklearn.metrics import classification_report\n",
    "from sklearn_crfsuite import CRF\n",
    "from keras.models import Model\n",
    "from keras.layers import Input, LSTM, Embedding, Dense, TimeDistributed, Dropout, Bidirectional\n",
    "from keras.utils import to_categorical\n",
    "from keras.callbacks import EarlyStopping\n"
   ]
  },
  {
   "cell_type": "code",
   "execution_count": 5,
   "id": "8e414d19",
   "metadata": {},
   "outputs": [
    {
     "name": "stdout",
     "output_type": "stream",
     "text": [
      "Requirement already satisfied: sklearn-crfsuite in /Users/fahimafridi/anaconda3/lib/python3.10/site-packages (0.3.6)\n",
      "Requirement already satisfied: tabulate in /Users/fahimafridi/anaconda3/lib/python3.10/site-packages (from sklearn-crfsuite) (0.8.10)\n",
      "Requirement already satisfied: six in /Users/fahimafridi/anaconda3/lib/python3.10/site-packages (from sklearn-crfsuite) (1.16.0)\n",
      "Requirement already satisfied: tqdm>=2.0 in /Users/fahimafridi/anaconda3/lib/python3.10/site-packages (from sklearn-crfsuite) (4.64.1)\n",
      "Requirement already satisfied: python-crfsuite>=0.8.3 in /Users/fahimafridi/anaconda3/lib/python3.10/site-packages (from sklearn-crfsuite) (0.9.9)\n",
      "Requirement already satisfied: conllu in /Users/fahimafridi/anaconda3/lib/python3.10/site-packages (4.5.2)\n"
     ]
    }
   ],
   "source": [
    "!pip install sklearn-crfsuite\n",
    "!pip install conllu"
   ]
  },
  {
   "cell_type": "code",
   "execution_count": 9,
   "id": "968b85eb",
   "metadata": {},
   "outputs": [],
   "source": [
    "import io\n",
    "from conllu import parse_incr\n",
    "\n",
    "with io.open(\"en-train.conllu\", \"r\", encoding=\"utf-8\") as f:\n",
    "    data = f.read()\n",
    "    \n",
    "#Split the data into sentences by splitting on the newline character\n",
    "sentences = data.strip().split(\"\\n\")"
   ]
  },
  {
   "cell_type": "code",
   "execution_count": 10,
   "id": "5420a42d",
   "metadata": {},
   "outputs": [],
   "source": [
    "array=[]\n",
    "c=[]\n",
    "for i in sentences:\n",
    "    if i.startswith(\"# id\"):\n",
    "        array.append(c)\n",
    "        c=[]\n",
    "    else:\n",
    "        c.append(i)\n",
    "array = [subarray for subarray in array if subarray]"
   ]
  },
  {
   "cell_type": "code",
   "execution_count": 11,
   "id": "7ad3e655",
   "metadata": {},
   "outputs": [],
   "source": [
    "dt=[]\n",
    "dl=[]\n",
    "for i in array:\n",
    "    #print(i)\n",
    "    cc=[]\n",
    "    tt=[]\n",
    "    for j in i:\n",
    "        if j!=\"\":\n",
    "            text=j.split(\" _ _ \")\n",
    "            cc.append(text[0])\n",
    "            tt.append(text[1])\n",
    "    dt.append(cc)\n",
    "    dl.append(tt)"
   ]
  },
  {
   "cell_type": "code",
   "execution_count": 12,
   "id": "a0cb3292",
   "metadata": {},
   "outputs": [],
   "source": [
    "def word2features(sent, i):\n",
    "    word = sent[i]\n",
    "    features = {\n",
    "        'bias': 1.0,\n",
    "        'word.lower()': word.lower(),\n",
    "        'word.isupper()': word.isupper(),\n",
    "        'word.istitle()': word.istitle(),\n",
    "        'word.isdigit()': word.isdigit()\n",
    "    }\n",
    "    if i > 0:\n",
    "        prev_word = sent[i-1]\n",
    "        features.update({\n",
    "            'prev_word.lower()': prev_word.lower(),\n",
    "            'prev_word.istitle()': prev_word.istitle(),\n",
    "            'prev_word.isupper()': prev_word.isupper()\n",
    "        })\n",
    "    else:\n",
    "        features['BOS'] = True\n",
    "    if i < len(sent)-1:\n",
    "        next_word = sent[i+1]\n",
    "        features.update({\n",
    "            'next_word.lower()': next_word.lower(),\n",
    "            'next_word.istitle()': next_word.istitle(),\n",
    "            'next_word.isupper()': next_word.isupper()\n",
    "        })\n",
    "    else:\n",
    "        features['EOS'] = True\n",
    "    return features"
   ]
  },
  {
   "cell_type": "code",
   "execution_count": 13,
   "id": "95f1f602",
   "metadata": {},
   "outputs": [],
   "source": [
    "def sent2features(sent):\n",
    "    return [word2features(sent, i) for i in range(len(sent))]\n",
    "\n",
    "def sent2labels(sent):\n",
    "    return sent"
   ]
  },
  {
   "cell_type": "code",
   "execution_count": 14,
   "id": "51a38c9f",
   "metadata": {},
   "outputs": [],
   "source": [
    "X = [sent2features(s) for s in dt]\n",
    "y = [sent2labels(s) for s in dl]\n"
   ]
  },
  {
   "cell_type": "code",
   "execution_count": 19,
   "id": "d2343e6d",
   "metadata": {},
   "outputs": [],
   "source": [
    "X_train, X_test, y_train, y_test = train_test_split(X, y, test_size=0.2, random_state=42)"
   ]
  },
  {
   "cell_type": "code",
   "execution_count": 21,
   "id": "6fce806a",
   "metadata": {
    "scrolled": true
   },
   "outputs": [
    {
     "name": "stdout",
     "output_type": "stream",
     "text": [
      "F1 Score: 0.84\n"
     ]
    }
   ],
   "source": [
    "from sklearn_crfsuite import metrics\n",
    "crf = CRF(algorithm='lbfgs', c1=0.1, c2=0.1, max_iterations=100, all_possible_transitions=False)\n",
    "\n",
    "# Fit the CRF model on the training data\n",
    "crf.fit(X_train, y_train)\n",
    "\n",
    "# Use the CRF model to make predictions on the testing data\n",
    "y_pred = crf.predict(X_test)\n",
    "\n",
    "# Print the classification report and F1 score\n",
    "#print(metrics.flat_classification_report(y_test, y_pred))\n",
    "print(f\"F1 Score: {metrics.flat_f1_score(y_test, y_pred, average='weighted'):.2f}\")\n"
   ]
  },
  {
   "cell_type": "code",
   "execution_count": 3,
   "id": "47ecb44d",
   "metadata": {},
   "outputs": [],
   "source": [
    "import io\n",
    "from conllu import parse_incr\n",
    "with io.open(\"en-dev.conllu\", \"r\", encoding=\"utf-8\") as f:\n",
    "    t_data = f.read()\n",
    "    \n",
    "#Split the data into sentences by splitting on the newline character\n",
    "test_sentences = t_data.strip().split(\"\\n\")"
   ]
  },
  {
   "cell_type": "code",
   "execution_count": 6,
   "id": "1806f9fe",
   "metadata": {},
   "outputs": [],
   "source": [
    "t_array=[]\n",
    "t_c=[]\n",
    "for i in test_sentences:\n",
    "    if i.startswith(\"# id\"):\n",
    "        t_array.append(t_c)\n",
    "        t_c=[]\n",
    "    else:\n",
    "        t_c.append(i)\n",
    "t_array = [subarray for subarray in t_array if subarray]"
   ]
  },
  {
   "cell_type": "code",
   "execution_count": 7,
   "id": "f8868257",
   "metadata": {},
   "outputs": [],
   "source": [
    "tdt=[]\n",
    "tdl=[]\n",
    "for i in t_array:\n",
    "    #print(i)\n",
    "    tcc=[]\n",
    "    ttt=[]\n",
    "    for j in i:\n",
    "        if j!=\"\":\n",
    "            ttext=j.split(\" _ _ \")\n",
    "            tcc.append(ttext[0])\n",
    "            ttt.append(ttext[1])\n",
    "    tdt.append(tcc)\n",
    "    tdl.append(ttt)"
   ]
  },
  {
   "cell_type": "code",
   "execution_count": 16,
   "id": "98c78b44",
   "metadata": {},
   "outputs": [],
   "source": [
    "tX = [sent2features(s) for s in tdt]\n",
    "ty = [sent2labels(s) for s in tdl]"
   ]
  },
  {
   "cell_type": "code",
   "execution_count": 18,
   "id": "f116fcd0",
   "metadata": {},
   "outputs": [],
   "source": [
    "_, tX_test, _, ty_test = train_test_split(tX, ty, test_size=0.2, random_state=42)"
   ]
  },
  {
   "cell_type": "code",
   "execution_count": 20,
   "id": "28e7fd1c",
   "metadata": {},
   "outputs": [
    {
     "name": "stdout",
     "output_type": "stream",
     "text": [
      "F1 Score: 0.85\n"
     ]
    }
   ],
   "source": [
    "from sklearn_crfsuite import metrics\n",
    "crf = CRF(algorithm='lbfgs', c1=0.1, c2=0.1, max_iterations=100, all_possible_transitions=False)\n",
    "\n",
    "# Fit the CRF model on the training data\n",
    "crf.fit(X_train, y_train)\n",
    "\n",
    "# Use the CRF model to make predictions on the testing data\n",
    "y_pred = crf.predict(tX_test)\n",
    "\n",
    "# Print the classification report and F1 score\n",
    "#print(metrics.flat_classification_report(y_test, y_pred))\n",
    "print(f\"F1 Score: {metrics.flat_f1_score(ty_test, y_pred, average='weighted'):.2f}\")\n"
   ]
  },
  {
   "cell_type": "code",
   "execution_count": null,
   "id": "7bfd3d82",
   "metadata": {},
   "outputs": [],
   "source": []
  }
 ],
 "metadata": {
  "kernelspec": {
   "display_name": "Python 3 (ipykernel)",
   "language": "python",
   "name": "python3"
  },
  "language_info": {
   "codemirror_mode": {
    "name": "ipython",
    "version": 3
   },
   "file_extension": ".py",
   "mimetype": "text/x-python",
   "name": "python",
   "nbconvert_exporter": "python",
   "pygments_lexer": "ipython3",
   "version": "3.10.9"
  }
 },
 "nbformat": 4,
 "nbformat_minor": 5
}
